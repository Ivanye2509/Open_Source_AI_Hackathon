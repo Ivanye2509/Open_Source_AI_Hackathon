# notebook.ipynb
user_message = "Hello"  # This will be replaced with the actual message from the Flask server
response = f"Bot: You said '{user_message}'"
print(response)
